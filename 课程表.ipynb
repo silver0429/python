{
 "cells": [
  {
   "cell_type": "code",
   "execution_count": 13,
   "id": "54df47d3",
   "metadata": {},
   "outputs": [
    {
     "name": "stdout",
     "output_type": "stream",
     "text": [
      "今天的课程表\n",
      "1-2 illustrator软件应用\n",
      "3-5 创业基础\n",
      "8-10 毛泽东思想和中国特色社会主义理论体系概论\n",
      "  累死人的一天  \n"
     ]
    }
   ],
   "source": [
    "print(\"今天的课程表\")\n",
    "import datetime\n",
    "time = datetime.datetime.today().weekday()\n",
    "week_time = int(time)\n",
    "if week_time==0:\n",
    "    print(\"3-4 python语言\");print(\"12-13 大学英语\")\n",
    "elif week_time==1:\n",
    "    print(\"4-5 传统体育养生\");print(\"8-9 网站运营与管理\")\n",
    "elif week_time==2:\n",
    "    print(\"1-2 毛泽东思想和中国特色社会主义理论体系概论实践\");print(\"4-5 大学英语\")\n",
    "elif week_time==3:\n",
    "    print(\"躺尸\")\n",
    "elif week_time==4:\n",
    "    print(\"1-2 illustrator软件应用\");print(\"3-5 创业基础\");print(\"8-10 毛泽东思想和中国特色社会主义理论体系概论\");print(\"  累死人的一天  \");\n",
    "else:\n",
    "    print(\"周六、周日\");print(\"happy time\")"
   ]
  }
 ],
 "metadata": {
  "kernelspec": {
   "display_name": "Python 3",
   "language": "python",
   "name": "python3"
  },
  "language_info": {
   "codemirror_mode": {
    "name": "ipython",
    "version": 3
   },
   "file_extension": ".py",
   "mimetype": "text/x-python",
   "name": "python",
   "nbconvert_exporter": "python",
   "pygments_lexer": "ipython3",
   "version": "3.8.8"
  }
 },
 "nbformat": 4,
 "nbformat_minor": 5
}
